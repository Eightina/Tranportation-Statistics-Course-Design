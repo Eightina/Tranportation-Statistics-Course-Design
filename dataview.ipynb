{
 "cells": [
  {
   "cell_type": "code",
   "execution_count": null,
   "metadata": {},
   "outputs": [],
   "source": [
    "import pandas as pd\n",
    "import numpy as np\n",
    "import matplotlib.pyplot as plt\n",
    "import seaborn as sns\n",
    "\n",
    "import geopandas as gpd\n",
    "\n",
    "from scipy import ndimage\n",
    "\n",
    "import contextily as cx\n",
    "\n",
    "import matplotlib.pylab as pylab\n",
    "import matplotlib\n",
    "\n",
    "from shapely.geometry import Point\n",
    "from shapely.geometry import LineString\n",
    "\n",
    "from utils.gpdutils import generate_gpd, generate_lines,\\\n",
    "                        generate_routine, generate_adjusted_geometry,\\\n",
    "                        generate_belonging_relations, generate_buffers,\\\n",
    "                        print_belonging_relations\n",
    "        \n",
    "from utils.timeutils import time_transfer"
   ]
  },
  {
   "cell_type": "code",
   "execution_count": null,
   "metadata": {},
   "outputs": [],
   "source": [
    "gps = pd.read_csv('./data/gps/gps_0906.csv')\n",
    "gps = time_transfer(gps)\n",
    "gps = generate_gpd(gps, True)"
   ]
  },
  {
   "cell_type": "code",
   "execution_count": null,
   "metadata": {},
   "outputs": [],
   "source": [
    "mapdf = pd.read_excel('./data/map/map_up.xlsx')\n",
    "mapdf = generate_gpd(mapdf, True)"
   ]
  },
  {
   "cell_type": "code",
   "execution_count": null,
   "metadata": {},
   "outputs": [],
   "source": [
    "routine = generate_routine(gps, 0, 0)\n",
    "mapline = generate_lines(mapdf)\n",
    "mapline = generate_buffers(mapline)"
   ]
  },
  {
   "cell_type": "code",
   "execution_count": null,
   "metadata": {},
   "outputs": [],
   "source": [
    "routine = generate_belonging_relations(routine, mapline)\n"
   ]
  },
  {
   "cell_type": "code",
   "execution_count": null,
   "metadata": {},
   "outputs": [],
   "source": [
    "print_belonging_relations(routine)"
   ]
  },
  {
   "cell_type": "code",
   "execution_count": null,
   "metadata": {},
   "outputs": [],
   "source": [
    "routine.head(2)"
   ]
  },
  {
   "cell_type": "code",
   "execution_count": null,
   "metadata": {},
   "outputs": [],
   "source": [
    "routine = generate_adjusted_geometry(routine)"
   ]
  },
  {
   "cell_type": "code",
   "execution_count": null,
   "metadata": {},
   "outputs": [],
   "source": [
    "fig, ax = plt.subplots(1,2,figsize=(9,6),dpi=300)\n",
    "mapline['rect_buffer'].plot(ax = ax[0], color = 'blue', alpha=0.3)\n",
    "mapline.plot(ax = ax[0], color = 'orange',alpha=0.6)\n",
    "routine.plot(ax = ax[0], color = 'red', alpha = 0.5, markersize = 5)\n",
    "\n",
    "ax[0].set_xlim((5400+1.349e7, 6500+1.349e7))\n",
    "ax[0].set_ylim((3.6822e6, 3.684e6))\n",
    "\n",
    "mapline['rect_buffer'].plot(ax = ax[1], color = 'blue', alpha=0.3)\n",
    "mapline.plot(ax = ax[1], color = 'orange',alpha=0.6)\n",
    "adjusted_routine = gpd.GeoDataFrame({'geometry':routine['adjusted_geometry']})\n",
    "adjusted_routine.plot(ax = ax[1], color = 'red', alpha = 0.5, markersize = 5)\n",
    "# routine['adjusted_geometry'].plot(ax = ax[1], color = 'red', alpha = 0.5, markersize = 5)\n",
    "\n",
    "ax[1].set_xlim((5400+1.349e7, 6500+1.349e7))\n",
    "ax[1].set_ylim((3.6822e6, 3.684e6))\n"
   ]
  },
  {
   "cell_type": "code",
   "execution_count": null,
   "metadata": {},
   "outputs": [],
   "source": []
  },
  {
   "cell_type": "code",
   "execution_count": null,
   "metadata": {},
   "outputs": [],
   "source": [
    "# testline = LineString([(0, 0), (1, 1), (0, 2), (2, 2), (3, 1), (1, 0)])\n",
    "testlines = gpd.GeoSeries([LineString([(0, 0), (1, 1)]),\n",
    "                            LineString([(1, 1), (0, 2)]),\n",
    "                            LineString([(0, 2), (2, 2)]),\n",
    "                            LineString([(2, 2), (3, 1)]),\n",
    "                            LineString([(3, 1), (1, 0)])])\n",
    "testbuffer = testlines.buffer(0.4, cap_style=1, join_style=2)\n",
    "fig, ax = plt.subplots(figsize=(6,6),dpi=300)\n",
    "gpd.GeoSeries(testlines).plot(ax = ax)\n",
    "color = ['red','orange','blue','green','yellow']\n",
    "for i in range(len(testbuffer)):\n",
    "    gpd.GeoSeries(testbuffer[i]).plot(ax = ax, color = color[i], alpha=0.3)"
   ]
  },
  {
   "cell_type": "code",
   "execution_count": null,
   "metadata": {},
   "outputs": [],
   "source": []
  }
 ],
 "metadata": {
  "kernelspec": {
   "display_name": "Python 3.9.7 ('ox')",
   "language": "python",
   "name": "python3"
  },
  "language_info": {
   "codemirror_mode": {
    "name": "ipython",
    "version": 3
   },
   "file_extension": ".py",
   "mimetype": "text/x-python",
   "name": "python",
   "nbconvert_exporter": "python",
   "pygments_lexer": "ipython3",
   "version": "3.9.7"
  },
  "orig_nbformat": 4,
  "vscode": {
   "interpreter": {
    "hash": "0e9c953ce333e46b732450a2d7281e263005e5cbdd37c84ada0757df85e40195"
   }
  }
 },
 "nbformat": 4,
 "nbformat_minor": 2
}
