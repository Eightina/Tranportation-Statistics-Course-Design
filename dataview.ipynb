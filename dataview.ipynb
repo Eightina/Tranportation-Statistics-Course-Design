{
 "cells": [
  {
   "cell_type": "code",
   "execution_count": 22,
   "metadata": {},
   "outputs": [],
   "source": [
    "import pandas as pd\n",
    "# import modin.pandas as mpd\n",
    "import numpy as np\n",
    "import matplotlib.pyplot as plt\n",
    "# import seaborn as sns\n",
    "\n",
    "# import geopandas as gpd\n",
    "\n",
    "# from scipy import ndimage\n",
    "\n",
    "# import contextily as cx\n",
    "\n",
    "# import matplotlib.pylab as pylab\n",
    "# import matplotlib\n",
    "\n",
    "from shapely.geometry import Point\n",
    "from shapely.geometry import LineString\n",
    "\n",
    "from utils.maputils import generate_3857_df, generate_lines,\\\n",
    "                            generate_buffers,generate_base_length\\\n",
    "\n",
    "from utils.routineutils import generate_routine, generate_adjusted_geometry,\\\n",
    "                                generate_belonging_relations, \\\n",
    "                                generate_cum_length, generate_correct_geometry,\\\n",
    "                                generate_station_status\\\n",
    "                                    ,generate_interpolation\n",
    "            \n",
    "from utils.timeutils import time_transfer"
   ]
  },
  {
   "cell_type": "code",
   "execution_count": 23,
   "metadata": {},
   "outputs": [
    {
     "data": {
      "application/vnd.jupyter.widget-view+json": {
       "model_id": "f536e1e2bfdf4e59b7d8aa8897bf3e7d",
       "version_major": 2,
       "version_minor": 0
      },
      "text/plain": [
       "generate_3857_df:   0%|          | 0/86559 [00:00<?, ?it/s]"
      ]
     },
     "metadata": {},
     "output_type": "display_data"
    },
    {
     "name": "stderr",
     "output_type": "stream",
     "text": [
      "d:\\programs\\envs\\ox\\lib\\site-packages\\pandas\\core\\dtypes\\cast.py:127: ShapelyDeprecationWarning: The array interface is deprecated and will no longer work in Shapely 2.0. Convert the '.coords' to a numpy array instead.\n",
      "  arr = construct_1d_object_array_from_listlike(values)\n"
     ]
    }
   ],
   "source": [
    "gps = pd.read_csv('./data/gps/gps_0906.csv')\n",
    "gps = time_transfer(gps)\n",
    "gps = generate_3857_df(gps)"
   ]
  },
  {
   "cell_type": "code",
   "execution_count": 24,
   "metadata": {},
   "outputs": [
    {
     "data": {
      "application/vnd.jupyter.widget-view+json": {
       "model_id": "0c88a2922b9c46179dbce2fa002b1bc5",
       "version_major": 2,
       "version_minor": 0
      },
      "text/plain": [
       "generate_3857_df:   0%|          | 0/85 [00:00<?, ?it/s]"
      ]
     },
     "metadata": {},
     "output_type": "display_data"
    },
    {
     "name": "stderr",
     "output_type": "stream",
     "text": [
      "d:\\programs\\envs\\ox\\lib\\site-packages\\pandas\\core\\dtypes\\cast.py:127: ShapelyDeprecationWarning: The array interface is deprecated and will no longer work in Shapely 2.0. Convert the '.coords' to a numpy array instead.\n",
      "  arr = construct_1d_object_array_from_listlike(values)\n"
     ]
    }
   ],
   "source": [
    "mapdf = pd.read_excel('./data/map/map_up.xlsx')\n",
    "# mapdf = pd.read_excel('./data/map/map_down.xlsx')\n",
    "mapdf = generate_3857_df(mapdf)\n",
    "\n",
    "mapline = generate_lines(mapdf)\n",
    "mapline = generate_buffers(mapline)\n",
    "mapline = generate_base_length(mapline)"
   ]
  },
  {
   "cell_type": "code",
   "execution_count": 25,
   "metadata": {},
   "outputs": [
    {
     "name": "stdout",
     "output_type": "stream",
     "text": [
      "processing belonging relations: 0.011764705882352941\n"
     ]
    },
    {
     "data": {
      "application/vnd.jupyter.widget-view+json": {
       "model_id": "dec5f0d98980440aa0794b8a6a844eac",
       "version_major": 2,
       "version_minor": 0
      },
      "text/plain": [
       "generate_belonging_relations:   0%|          | 0/423 [00:00<?, ?it/s]"
      ]
     },
     "metadata": {},
     "output_type": "display_data"
    },
    {
     "name": "stdout",
     "output_type": "stream",
     "text": [
      "processing belonging relations: 0.023529411764705882\n"
     ]
    },
    {
     "data": {
      "application/vnd.jupyter.widget-view+json": {
       "model_id": "811d21cd8bc6448ebf61ed0708500f0b",
       "version_major": 2,
       "version_minor": 0
      },
      "text/plain": [
       "generate_belonging_relations:   0%|          | 0/423 [00:00<?, ?it/s]"
      ]
     },
     "metadata": {},
     "output_type": "display_data"
    },
    {
     "name": "stdout",
     "output_type": "stream",
     "text": [
      "processing belonging relations: 0.03529411764705882\n"
     ]
    },
    {
     "data": {
      "application/vnd.jupyter.widget-view+json": {
       "model_id": "0a406259b5f94109bbbbca7bb5dd6b5c",
       "version_major": 2,
       "version_minor": 0
      },
      "text/plain": [
       "generate_belonging_relations:   0%|          | 0/423 [00:00<?, ?it/s]"
      ]
     },
     "metadata": {},
     "output_type": "display_data"
    },
    {
     "name": "stdout",
     "output_type": "stream",
     "text": [
      "processing belonging relations: 0.047058823529411764\n"
     ]
    },
    {
     "data": {
      "application/vnd.jupyter.widget-view+json": {
       "model_id": "1f915b29e3b34f9d88a3427f7b6b5e1f",
       "version_major": 2,
       "version_minor": 0
      },
      "text/plain": [
       "generate_belonging_relations:   0%|          | 0/423 [00:00<?, ?it/s]"
      ]
     },
     "metadata": {},
     "output_type": "display_data"
    },
    {
     "name": "stdout",
     "output_type": "stream",
     "text": [
      "processing belonging relations: 0.058823529411764705\n"
     ]
    },
    {
     "data": {
      "application/vnd.jupyter.widget-view+json": {
       "model_id": "c57bda8cdf854023835ea947b9877167",
       "version_major": 2,
       "version_minor": 0
      },
      "text/plain": [
       "generate_belonging_relations:   0%|          | 0/423 [00:00<?, ?it/s]"
      ]
     },
     "metadata": {},
     "output_type": "display_data"
    },
    {
     "name": "stdout",
     "output_type": "stream",
     "text": [
      "processing belonging relations: 0.07058823529411765\n"
     ]
    },
    {
     "data": {
      "application/vnd.jupyter.widget-view+json": {
       "model_id": "80c0df26173b4eabb35303be034e9ca4",
       "version_major": 2,
       "version_minor": 0
      },
      "text/plain": [
       "generate_belonging_relations:   0%|          | 0/423 [00:00<?, ?it/s]"
      ]
     },
     "metadata": {},
     "output_type": "display_data"
    },
    {
     "name": "stdout",
     "output_type": "stream",
     "text": [
      "processing belonging relations: 0.08235294117647059\n"
     ]
    },
    {
     "data": {
      "application/vnd.jupyter.widget-view+json": {
       "model_id": "344261acb5fc4c8e921255149bff8983",
       "version_major": 2,
       "version_minor": 0
      },
      "text/plain": [
       "generate_belonging_relations:   0%|          | 0/423 [00:00<?, ?it/s]"
      ]
     },
     "metadata": {},
     "output_type": "display_data"
    },
    {
     "name": "stdout",
     "output_type": "stream",
     "text": [
      "processing belonging relations: 0.09411764705882353\n"
     ]
    },
    {
     "data": {
      "application/vnd.jupyter.widget-view+json": {
       "model_id": "b1ba2e9272cb4caeac024f45187ca228",
       "version_major": 2,
       "version_minor": 0
      },
      "text/plain": [
       "generate_belonging_relations:   0%|          | 0/423 [00:00<?, ?it/s]"
      ]
     },
     "metadata": {},
     "output_type": "display_data"
    },
    {
     "name": "stdout",
     "output_type": "stream",
     "text": [
      "processing belonging relations: 0.10588235294117647\n"
     ]
    },
    {
     "data": {
      "application/vnd.jupyter.widget-view+json": {
       "model_id": "25fbfb86811246caa33f2ae156db069b",
       "version_major": 2,
       "version_minor": 0
      },
      "text/plain": [
       "generate_belonging_relations:   0%|          | 0/423 [00:00<?, ?it/s]"
      ]
     },
     "metadata": {},
     "output_type": "display_data"
    },
    {
     "name": "stdout",
     "output_type": "stream",
     "text": [
      "processing belonging relations: 0.11764705882352941\n"
     ]
    },
    {
     "data": {
      "application/vnd.jupyter.widget-view+json": {
       "model_id": "c86cf50ce0fc4a3cab7551928288b639",
       "version_major": 2,
       "version_minor": 0
      },
      "text/plain": [
       "generate_belonging_relations:   0%|          | 0/423 [00:00<?, ?it/s]"
      ]
     },
     "metadata": {},
     "output_type": "display_data"
    },
    {
     "name": "stdout",
     "output_type": "stream",
     "text": [
      "processing belonging relations: 0.12941176470588237\n"
     ]
    },
    {
     "data": {
      "application/vnd.jupyter.widget-view+json": {
       "model_id": "4a11b98d71c34eec83bc95757c28a854",
       "version_major": 2,
       "version_minor": 0
      },
      "text/plain": [
       "generate_belonging_relations:   0%|          | 0/423 [00:00<?, ?it/s]"
      ]
     },
     "metadata": {},
     "output_type": "display_data"
    },
    {
     "name": "stdout",
     "output_type": "stream",
     "text": [
      "processing belonging relations: 0.1411764705882353\n"
     ]
    },
    {
     "data": {
      "application/vnd.jupyter.widget-view+json": {
       "model_id": "b1c92de0560e4d349ac9ed985557bdba",
       "version_major": 2,
       "version_minor": 0
      },
      "text/plain": [
       "generate_belonging_relations:   0%|          | 0/423 [00:00<?, ?it/s]"
      ]
     },
     "metadata": {},
     "output_type": "display_data"
    },
    {
     "name": "stdout",
     "output_type": "stream",
     "text": [
      "processing belonging relations: 0.15294117647058825\n"
     ]
    },
    {
     "data": {
      "application/vnd.jupyter.widget-view+json": {
       "model_id": "efd0d199ca0c444592e10b97dc172467",
       "version_major": 2,
       "version_minor": 0
      },
      "text/plain": [
       "generate_belonging_relations:   0%|          | 0/423 [00:00<?, ?it/s]"
      ]
     },
     "metadata": {},
     "output_type": "display_data"
    },
    {
     "name": "stdout",
     "output_type": "stream",
     "text": [
      "processing belonging relations: 0.16470588235294117\n"
     ]
    },
    {
     "data": {
      "application/vnd.jupyter.widget-view+json": {
       "model_id": "e15044af084b4c7a997ac55b974333b9",
       "version_major": 2,
       "version_minor": 0
      },
      "text/plain": [
       "generate_belonging_relations:   0%|          | 0/423 [00:00<?, ?it/s]"
      ]
     },
     "metadata": {},
     "output_type": "display_data"
    },
    {
     "name": "stdout",
     "output_type": "stream",
     "text": [
      "processing belonging relations: 0.17647058823529413\n"
     ]
    },
    {
     "data": {
      "application/vnd.jupyter.widget-view+json": {
       "model_id": "aaa6dc67c74e4acd9e731e845b6c77f2",
       "version_major": 2,
       "version_minor": 0
      },
      "text/plain": [
       "generate_belonging_relations:   0%|          | 0/423 [00:00<?, ?it/s]"
      ]
     },
     "metadata": {},
     "output_type": "display_data"
    },
    {
     "name": "stdout",
     "output_type": "stream",
     "text": [
      "processing belonging relations: 0.18823529411764706\n"
     ]
    },
    {
     "data": {
      "application/vnd.jupyter.widget-view+json": {
       "model_id": "c6010cc1295444cf87375023119470f4",
       "version_major": 2,
       "version_minor": 0
      },
      "text/plain": [
       "generate_belonging_relations:   0%|          | 0/423 [00:00<?, ?it/s]"
      ]
     },
     "metadata": {},
     "output_type": "display_data"
    },
    {
     "name": "stdout",
     "output_type": "stream",
     "text": [
      "processing belonging relations: 0.2\n"
     ]
    },
    {
     "data": {
      "application/vnd.jupyter.widget-view+json": {
       "model_id": "61b085f58d8246f28b7f1c55811aefed",
       "version_major": 2,
       "version_minor": 0
      },
      "text/plain": [
       "generate_belonging_relations:   0%|          | 0/423 [00:00<?, ?it/s]"
      ]
     },
     "metadata": {},
     "output_type": "display_data"
    },
    {
     "name": "stdout",
     "output_type": "stream",
     "text": [
      "processing belonging relations: 0.21176470588235294\n"
     ]
    },
    {
     "data": {
      "application/vnd.jupyter.widget-view+json": {
       "model_id": "e6cd157b01f9431681eca9118df436db",
       "version_major": 2,
       "version_minor": 0
      },
      "text/plain": [
       "generate_belonging_relations:   0%|          | 0/423 [00:00<?, ?it/s]"
      ]
     },
     "metadata": {},
     "output_type": "display_data"
    },
    {
     "name": "stdout",
     "output_type": "stream",
     "text": [
      "processing belonging relations: 0.2235294117647059\n"
     ]
    },
    {
     "data": {
      "application/vnd.jupyter.widget-view+json": {
       "model_id": "b7b252e7e6a74df6a05400e1414be6db",
       "version_major": 2,
       "version_minor": 0
      },
      "text/plain": [
       "generate_belonging_relations:   0%|          | 0/423 [00:00<?, ?it/s]"
      ]
     },
     "metadata": {},
     "output_type": "display_data"
    },
    {
     "name": "stdout",
     "output_type": "stream",
     "text": [
      "processing belonging relations: 0.23529411764705882\n"
     ]
    },
    {
     "data": {
      "application/vnd.jupyter.widget-view+json": {
       "model_id": "6e84fcfac057476a93c85a438da90cee",
       "version_major": 2,
       "version_minor": 0
      },
      "text/plain": [
       "generate_belonging_relations:   0%|          | 0/423 [00:00<?, ?it/s]"
      ]
     },
     "metadata": {},
     "output_type": "display_data"
    },
    {
     "name": "stdout",
     "output_type": "stream",
     "text": [
      "processing belonging relations: 0.24705882352941178\n"
     ]
    },
    {
     "data": {
      "application/vnd.jupyter.widget-view+json": {
       "model_id": "9ad4aede57a045e98fe8a8fcc720bb94",
       "version_major": 2,
       "version_minor": 0
      },
      "text/plain": [
       "generate_belonging_relations:   0%|          | 0/423 [00:00<?, ?it/s]"
      ]
     },
     "metadata": {},
     "output_type": "display_data"
    },
    {
     "name": "stdout",
     "output_type": "stream",
     "text": [
      "processing belonging relations: 0.25882352941176473\n"
     ]
    },
    {
     "data": {
      "application/vnd.jupyter.widget-view+json": {
       "model_id": "f4f3b09e99d54fe39e6b127359621617",
       "version_major": 2,
       "version_minor": 0
      },
      "text/plain": [
       "generate_belonging_relations:   0%|          | 0/423 [00:00<?, ?it/s]"
      ]
     },
     "metadata": {},
     "output_type": "display_data"
    },
    {
     "name": "stdout",
     "output_type": "stream",
     "text": [
      "processing belonging relations: 0.27058823529411763\n"
     ]
    },
    {
     "data": {
      "application/vnd.jupyter.widget-view+json": {
       "model_id": "2639aeb073a94a8c86357a5f96d6b13f",
       "version_major": 2,
       "version_minor": 0
      },
      "text/plain": [
       "generate_belonging_relations:   0%|          | 0/423 [00:00<?, ?it/s]"
      ]
     },
     "metadata": {},
     "output_type": "display_data"
    },
    {
     "name": "stdout",
     "output_type": "stream",
     "text": [
      "processing belonging relations: 0.2823529411764706\n"
     ]
    },
    {
     "data": {
      "application/vnd.jupyter.widget-view+json": {
       "model_id": "feeb9f3cda9a414ea633b1b6af352330",
       "version_major": 2,
       "version_minor": 0
      },
      "text/plain": [
       "generate_belonging_relations:   0%|          | 0/423 [00:00<?, ?it/s]"
      ]
     },
     "metadata": {},
     "output_type": "display_data"
    },
    {
     "name": "stdout",
     "output_type": "stream",
     "text": [
      "processing belonging relations: 0.29411764705882354\n"
     ]
    },
    {
     "data": {
      "application/vnd.jupyter.widget-view+json": {
       "model_id": "4e28b8853d5748aaa46651d886f6d9a7",
       "version_major": 2,
       "version_minor": 0
      },
      "text/plain": [
       "generate_belonging_relations:   0%|          | 0/423 [00:00<?, ?it/s]"
      ]
     },
     "metadata": {},
     "output_type": "display_data"
    },
    {
     "name": "stdout",
     "output_type": "stream",
     "text": [
      "processing belonging relations: 0.3058823529411765\n"
     ]
    },
    {
     "data": {
      "application/vnd.jupyter.widget-view+json": {
       "model_id": "a0b61e92b5854edf9f8abdad20993308",
       "version_major": 2,
       "version_minor": 0
      },
      "text/plain": [
       "generate_belonging_relations:   0%|          | 0/423 [00:00<?, ?it/s]"
      ]
     },
     "metadata": {},
     "output_type": "display_data"
    },
    {
     "name": "stdout",
     "output_type": "stream",
     "text": [
      "processing belonging relations: 0.3176470588235294\n"
     ]
    },
    {
     "data": {
      "application/vnd.jupyter.widget-view+json": {
       "model_id": "53cee9f5576044b1a665817f90b419ff",
       "version_major": 2,
       "version_minor": 0
      },
      "text/plain": [
       "generate_belonging_relations:   0%|          | 0/423 [00:00<?, ?it/s]"
      ]
     },
     "metadata": {},
     "output_type": "display_data"
    },
    {
     "name": "stdout",
     "output_type": "stream",
     "text": [
      "processing belonging relations: 0.32941176470588235\n"
     ]
    },
    {
     "data": {
      "application/vnd.jupyter.widget-view+json": {
       "model_id": "6cbcc9f7412443a4a857b1b1bf7610c2",
       "version_major": 2,
       "version_minor": 0
      },
      "text/plain": [
       "generate_belonging_relations:   0%|          | 0/423 [00:00<?, ?it/s]"
      ]
     },
     "metadata": {},
     "output_type": "display_data"
    },
    {
     "name": "stdout",
     "output_type": "stream",
     "text": [
      "processing belonging relations: 0.3411764705882353\n"
     ]
    },
    {
     "data": {
      "application/vnd.jupyter.widget-view+json": {
       "model_id": "ebcd48c60be94c9386041dc25d3cd1f1",
       "version_major": 2,
       "version_minor": 0
      },
      "text/plain": [
       "generate_belonging_relations:   0%|          | 0/423 [00:00<?, ?it/s]"
      ]
     },
     "metadata": {},
     "output_type": "display_data"
    },
    {
     "name": "stdout",
     "output_type": "stream",
     "text": [
      "processing belonging relations: 0.35294117647058826\n"
     ]
    },
    {
     "data": {
      "application/vnd.jupyter.widget-view+json": {
       "model_id": "e25531f23c6043a69809649154496850",
       "version_major": 2,
       "version_minor": 0
      },
      "text/plain": [
       "generate_belonging_relations:   0%|          | 0/423 [00:00<?, ?it/s]"
      ]
     },
     "metadata": {},
     "output_type": "display_data"
    },
    {
     "name": "stdout",
     "output_type": "stream",
     "text": [
      "processing belonging relations: 0.36470588235294116\n"
     ]
    },
    {
     "data": {
      "application/vnd.jupyter.widget-view+json": {
       "model_id": "1c5aec925f264af1895ed9b7ade598e2",
       "version_major": 2,
       "version_minor": 0
      },
      "text/plain": [
       "generate_belonging_relations:   0%|          | 0/423 [00:00<?, ?it/s]"
      ]
     },
     "metadata": {},
     "output_type": "display_data"
    },
    {
     "name": "stdout",
     "output_type": "stream",
     "text": [
      "processing belonging relations: 0.3764705882352941\n"
     ]
    },
    {
     "data": {
      "application/vnd.jupyter.widget-view+json": {
       "model_id": "42558cbdfd634c2e9c512ff7a0fb1e8e",
       "version_major": 2,
       "version_minor": 0
      },
      "text/plain": [
       "generate_belonging_relations:   0%|          | 0/423 [00:00<?, ?it/s]"
      ]
     },
     "metadata": {},
     "output_type": "display_data"
    },
    {
     "name": "stdout",
     "output_type": "stream",
     "text": [
      "processing belonging relations: 0.38823529411764707\n"
     ]
    },
    {
     "data": {
      "application/vnd.jupyter.widget-view+json": {
       "model_id": "3489c1e22f2d4a93b3184af5ee66a6ce",
       "version_major": 2,
       "version_minor": 0
      },
      "text/plain": [
       "generate_belonging_relations:   0%|          | 0/423 [00:00<?, ?it/s]"
      ]
     },
     "metadata": {},
     "output_type": "display_data"
    },
    {
     "name": "stdout",
     "output_type": "stream",
     "text": [
      "processing belonging relations: 0.4\n"
     ]
    },
    {
     "data": {
      "application/vnd.jupyter.widget-view+json": {
       "model_id": "9e3defa0844c4f51a1f44be80b8004e4",
       "version_major": 2,
       "version_minor": 0
      },
      "text/plain": [
       "generate_belonging_relations:   0%|          | 0/423 [00:00<?, ?it/s]"
      ]
     },
     "metadata": {},
     "output_type": "display_data"
    },
    {
     "name": "stdout",
     "output_type": "stream",
     "text": [
      "processing belonging relations: 0.4117647058823529\n"
     ]
    },
    {
     "data": {
      "application/vnd.jupyter.widget-view+json": {
       "model_id": "99cabd2f77c64f6da5af9fbef110e9b1",
       "version_major": 2,
       "version_minor": 0
      },
      "text/plain": [
       "generate_belonging_relations:   0%|          | 0/423 [00:00<?, ?it/s]"
      ]
     },
     "metadata": {},
     "output_type": "display_data"
    },
    {
     "name": "stdout",
     "output_type": "stream",
     "text": [
      "processing belonging relations: 0.4235294117647059\n"
     ]
    },
    {
     "data": {
      "application/vnd.jupyter.widget-view+json": {
       "model_id": "913cdc7070d1477ca34d5618382f3fbd",
       "version_major": 2,
       "version_minor": 0
      },
      "text/plain": [
       "generate_belonging_relations:   0%|          | 0/423 [00:00<?, ?it/s]"
      ]
     },
     "metadata": {},
     "output_type": "display_data"
    },
    {
     "name": "stdout",
     "output_type": "stream",
     "text": [
      "processing belonging relations: 0.43529411764705883\n"
     ]
    },
    {
     "data": {
      "application/vnd.jupyter.widget-view+json": {
       "model_id": "f2d44ae98a204298b95b01e87b90ba1b",
       "version_major": 2,
       "version_minor": 0
      },
      "text/plain": [
       "generate_belonging_relations:   0%|          | 0/423 [00:00<?, ?it/s]"
      ]
     },
     "metadata": {},
     "output_type": "display_data"
    },
    {
     "name": "stdout",
     "output_type": "stream",
     "text": [
      "processing belonging relations: 0.4470588235294118\n"
     ]
    },
    {
     "data": {
      "application/vnd.jupyter.widget-view+json": {
       "model_id": "a6d727f7f60a480894371373e748abe0",
       "version_major": 2,
       "version_minor": 0
      },
      "text/plain": [
       "generate_belonging_relations:   0%|          | 0/423 [00:00<?, ?it/s]"
      ]
     },
     "metadata": {},
     "output_type": "display_data"
    },
    {
     "name": "stdout",
     "output_type": "stream",
     "text": [
      "processing belonging relations: 0.4588235294117647\n"
     ]
    },
    {
     "data": {
      "application/vnd.jupyter.widget-view+json": {
       "model_id": "3763701e53844dbb95a01979a92192ad",
       "version_major": 2,
       "version_minor": 0
      },
      "text/plain": [
       "generate_belonging_relations:   0%|          | 0/423 [00:00<?, ?it/s]"
      ]
     },
     "metadata": {},
     "output_type": "display_data"
    },
    {
     "name": "stdout",
     "output_type": "stream",
     "text": [
      "processing belonging relations: 0.47058823529411764\n"
     ]
    },
    {
     "data": {
      "application/vnd.jupyter.widget-view+json": {
       "model_id": "7a8f1a40cc654bf2b40976ed47e6a0ac",
       "version_major": 2,
       "version_minor": 0
      },
      "text/plain": [
       "generate_belonging_relations:   0%|          | 0/423 [00:00<?, ?it/s]"
      ]
     },
     "metadata": {},
     "output_type": "display_data"
    },
    {
     "name": "stdout",
     "output_type": "stream",
     "text": [
      "processing belonging relations: 0.4823529411764706\n"
     ]
    },
    {
     "data": {
      "application/vnd.jupyter.widget-view+json": {
       "model_id": "0b96b205b33d44348034642a02ee231c",
       "version_major": 2,
       "version_minor": 0
      },
      "text/plain": [
       "generate_belonging_relations:   0%|          | 0/423 [00:00<?, ?it/s]"
      ]
     },
     "metadata": {},
     "output_type": "display_data"
    },
    {
     "name": "stdout",
     "output_type": "stream",
     "text": [
      "processing belonging relations: 0.49411764705882355\n"
     ]
    },
    {
     "data": {
      "application/vnd.jupyter.widget-view+json": {
       "model_id": "bf16ce54ad8b41178c62f2aa907e485b",
       "version_major": 2,
       "version_minor": 0
      },
      "text/plain": [
       "generate_belonging_relations:   0%|          | 0/423 [00:00<?, ?it/s]"
      ]
     },
     "metadata": {},
     "output_type": "display_data"
    },
    {
     "name": "stdout",
     "output_type": "stream",
     "text": [
      "processing belonging relations: 0.5058823529411764\n"
     ]
    },
    {
     "data": {
      "application/vnd.jupyter.widget-view+json": {
       "model_id": "9bef74526e02443da4ab40b602a75c5b",
       "version_major": 2,
       "version_minor": 0
      },
      "text/plain": [
       "generate_belonging_relations:   0%|          | 0/423 [00:00<?, ?it/s]"
      ]
     },
     "metadata": {},
     "output_type": "display_data"
    },
    {
     "name": "stdout",
     "output_type": "stream",
     "text": [
      "processing belonging relations: 0.5176470588235295\n"
     ]
    },
    {
     "data": {
      "application/vnd.jupyter.widget-view+json": {
       "model_id": "0c8e57226cb24efba289fbbb7853a59d",
       "version_major": 2,
       "version_minor": 0
      },
      "text/plain": [
       "generate_belonging_relations:   0%|          | 0/423 [00:00<?, ?it/s]"
      ]
     },
     "metadata": {},
     "output_type": "display_data"
    },
    {
     "name": "stdout",
     "output_type": "stream",
     "text": [
      "processing belonging relations: 0.5294117647058824\n"
     ]
    },
    {
     "data": {
      "application/vnd.jupyter.widget-view+json": {
       "model_id": "455d877542704ff4a7e7e33d91951b01",
       "version_major": 2,
       "version_minor": 0
      },
      "text/plain": [
       "generate_belonging_relations:   0%|          | 0/423 [00:00<?, ?it/s]"
      ]
     },
     "metadata": {},
     "output_type": "display_data"
    },
    {
     "name": "stdout",
     "output_type": "stream",
     "text": [
      "processing belonging relations: 0.5411764705882353\n"
     ]
    },
    {
     "data": {
      "application/vnd.jupyter.widget-view+json": {
       "model_id": "1f77f6a8f4f34ad0b542bb27b0126a4b",
       "version_major": 2,
       "version_minor": 0
      },
      "text/plain": [
       "generate_belonging_relations:   0%|          | 0/423 [00:00<?, ?it/s]"
      ]
     },
     "metadata": {},
     "output_type": "display_data"
    },
    {
     "name": "stdout",
     "output_type": "stream",
     "text": [
      "processing belonging relations: 0.5529411764705883\n"
     ]
    },
    {
     "data": {
      "application/vnd.jupyter.widget-view+json": {
       "model_id": "0cff9efdcb6f441e9ac3afe23e65f5e1",
       "version_major": 2,
       "version_minor": 0
      },
      "text/plain": [
       "generate_belonging_relations:   0%|          | 0/423 [00:00<?, ?it/s]"
      ]
     },
     "metadata": {},
     "output_type": "display_data"
    },
    {
     "name": "stdout",
     "output_type": "stream",
     "text": [
      "processing belonging relations: 0.5647058823529412\n"
     ]
    },
    {
     "data": {
      "application/vnd.jupyter.widget-view+json": {
       "model_id": "d9d50ae7e34d472f8584592abc1b4bc4",
       "version_major": 2,
       "version_minor": 0
      },
      "text/plain": [
       "generate_belonging_relations:   0%|          | 0/423 [00:00<?, ?it/s]"
      ]
     },
     "metadata": {},
     "output_type": "display_data"
    },
    {
     "name": "stdout",
     "output_type": "stream",
     "text": [
      "processing belonging relations: 0.5764705882352941\n"
     ]
    },
    {
     "data": {
      "application/vnd.jupyter.widget-view+json": {
       "model_id": "8c1577ce3b664cf7a4bf7754faaab9f4",
       "version_major": 2,
       "version_minor": 0
      },
      "text/plain": [
       "generate_belonging_relations:   0%|          | 0/423 [00:00<?, ?it/s]"
      ]
     },
     "metadata": {},
     "output_type": "display_data"
    },
    {
     "name": "stdout",
     "output_type": "stream",
     "text": [
      "processing belonging relations: 0.5882352941176471\n"
     ]
    },
    {
     "data": {
      "application/vnd.jupyter.widget-view+json": {
       "model_id": "ec99939e05d44553b63f5ff25ad35d0f",
       "version_major": 2,
       "version_minor": 0
      },
      "text/plain": [
       "generate_belonging_relations:   0%|          | 0/423 [00:00<?, ?it/s]"
      ]
     },
     "metadata": {},
     "output_type": "display_data"
    },
    {
     "name": "stdout",
     "output_type": "stream",
     "text": [
      "processing belonging relations: 0.6\n"
     ]
    },
    {
     "data": {
      "application/vnd.jupyter.widget-view+json": {
       "model_id": "a207c60bfc404f3daae0b8f64ba65eb7",
       "version_major": 2,
       "version_minor": 0
      },
      "text/plain": [
       "generate_belonging_relations:   0%|          | 0/423 [00:00<?, ?it/s]"
      ]
     },
     "metadata": {},
     "output_type": "display_data"
    },
    {
     "name": "stdout",
     "output_type": "stream",
     "text": [
      "processing belonging relations: 0.611764705882353\n"
     ]
    },
    {
     "data": {
      "application/vnd.jupyter.widget-view+json": {
       "model_id": "f2d99eed7cd34e4c805931097cecfc2c",
       "version_major": 2,
       "version_minor": 0
      },
      "text/plain": [
       "generate_belonging_relations:   0%|          | 0/423 [00:00<?, ?it/s]"
      ]
     },
     "metadata": {},
     "output_type": "display_data"
    },
    {
     "name": "stdout",
     "output_type": "stream",
     "text": [
      "processing belonging relations: 0.6235294117647059\n"
     ]
    },
    {
     "data": {
      "application/vnd.jupyter.widget-view+json": {
       "model_id": "98ffa609fec34364aab43a6851544b68",
       "version_major": 2,
       "version_minor": 0
      },
      "text/plain": [
       "generate_belonging_relations:   0%|          | 0/423 [00:00<?, ?it/s]"
      ]
     },
     "metadata": {},
     "output_type": "display_data"
    },
    {
     "name": "stdout",
     "output_type": "stream",
     "text": [
      "processing belonging relations: 0.6352941176470588\n"
     ]
    },
    {
     "data": {
      "application/vnd.jupyter.widget-view+json": {
       "model_id": "2f6f4eb99356482d8c9fd203e6f59f9c",
       "version_major": 2,
       "version_minor": 0
      },
      "text/plain": [
       "generate_belonging_relations:   0%|          | 0/423 [00:00<?, ?it/s]"
      ]
     },
     "metadata": {},
     "output_type": "display_data"
    },
    {
     "name": "stdout",
     "output_type": "stream",
     "text": [
      "processing belonging relations: 0.6470588235294118\n"
     ]
    },
    {
     "data": {
      "application/vnd.jupyter.widget-view+json": {
       "model_id": "674910df734a4e54845679e2fac8b7c9",
       "version_major": 2,
       "version_minor": 0
      },
      "text/plain": [
       "generate_belonging_relations:   0%|          | 0/423 [00:00<?, ?it/s]"
      ]
     },
     "metadata": {},
     "output_type": "display_data"
    },
    {
     "name": "stdout",
     "output_type": "stream",
     "text": [
      "processing belonging relations: 0.6588235294117647\n"
     ]
    },
    {
     "data": {
      "application/vnd.jupyter.widget-view+json": {
       "model_id": "ed56b7c062754ba99ce5fa26c35e4ce4",
       "version_major": 2,
       "version_minor": 0
      },
      "text/plain": [
       "generate_belonging_relations:   0%|          | 0/423 [00:00<?, ?it/s]"
      ]
     },
     "metadata": {},
     "output_type": "display_data"
    },
    {
     "name": "stdout",
     "output_type": "stream",
     "text": [
      "processing belonging relations: 0.6705882352941176\n"
     ]
    },
    {
     "data": {
      "application/vnd.jupyter.widget-view+json": {
       "model_id": "1fa9637ea19c4ef697cec26ac9f1b63e",
       "version_major": 2,
       "version_minor": 0
      },
      "text/plain": [
       "generate_belonging_relations:   0%|          | 0/423 [00:00<?, ?it/s]"
      ]
     },
     "metadata": {},
     "output_type": "display_data"
    },
    {
     "name": "stdout",
     "output_type": "stream",
     "text": [
      "processing belonging relations: 0.6823529411764706\n"
     ]
    },
    {
     "data": {
      "application/vnd.jupyter.widget-view+json": {
       "model_id": "8fb5572e0b6a4a0cbe4e9cdf625ebe4f",
       "version_major": 2,
       "version_minor": 0
      },
      "text/plain": [
       "generate_belonging_relations:   0%|          | 0/423 [00:00<?, ?it/s]"
      ]
     },
     "metadata": {},
     "output_type": "display_data"
    },
    {
     "name": "stdout",
     "output_type": "stream",
     "text": [
      "processing belonging relations: 0.6941176470588235\n"
     ]
    },
    {
     "data": {
      "application/vnd.jupyter.widget-view+json": {
       "model_id": "ba848840d6a24d349ac4adac7487cc90",
       "version_major": 2,
       "version_minor": 0
      },
      "text/plain": [
       "generate_belonging_relations:   0%|          | 0/423 [00:00<?, ?it/s]"
      ]
     },
     "metadata": {},
     "output_type": "display_data"
    },
    {
     "name": "stdout",
     "output_type": "stream",
     "text": [
      "processing belonging relations: 0.7058823529411765\n"
     ]
    },
    {
     "data": {
      "application/vnd.jupyter.widget-view+json": {
       "model_id": "f0437ee6370c4a3dba521e7659c94453",
       "version_major": 2,
       "version_minor": 0
      },
      "text/plain": [
       "generate_belonging_relations:   0%|          | 0/423 [00:00<?, ?it/s]"
      ]
     },
     "metadata": {},
     "output_type": "display_data"
    },
    {
     "name": "stdout",
     "output_type": "stream",
     "text": [
      "processing belonging relations: 0.7176470588235294\n"
     ]
    },
    {
     "data": {
      "application/vnd.jupyter.widget-view+json": {
       "model_id": "1d6e396ae595491c8a0b4da86ee048f9",
       "version_major": 2,
       "version_minor": 0
      },
      "text/plain": [
       "generate_belonging_relations:   0%|          | 0/423 [00:00<?, ?it/s]"
      ]
     },
     "metadata": {},
     "output_type": "display_data"
    },
    {
     "name": "stdout",
     "output_type": "stream",
     "text": [
      "processing belonging relations: 0.7294117647058823\n"
     ]
    },
    {
     "data": {
      "application/vnd.jupyter.widget-view+json": {
       "model_id": "7dffe800ba45495087fdf700cbb7a440",
       "version_major": 2,
       "version_minor": 0
      },
      "text/plain": [
       "generate_belonging_relations:   0%|          | 0/423 [00:00<?, ?it/s]"
      ]
     },
     "metadata": {},
     "output_type": "display_data"
    },
    {
     "name": "stdout",
     "output_type": "stream",
     "text": [
      "processing belonging relations: 0.7411764705882353\n"
     ]
    },
    {
     "data": {
      "application/vnd.jupyter.widget-view+json": {
       "model_id": "256871b0decf4ecda189951ef1404751",
       "version_major": 2,
       "version_minor": 0
      },
      "text/plain": [
       "generate_belonging_relations:   0%|          | 0/423 [00:00<?, ?it/s]"
      ]
     },
     "metadata": {},
     "output_type": "display_data"
    },
    {
     "name": "stdout",
     "output_type": "stream",
     "text": [
      "processing belonging relations: 0.7529411764705882\n"
     ]
    },
    {
     "data": {
      "application/vnd.jupyter.widget-view+json": {
       "model_id": "00e474adfe724e9e824962e5f6eb4670",
       "version_major": 2,
       "version_minor": 0
      },
      "text/plain": [
       "generate_belonging_relations:   0%|          | 0/423 [00:00<?, ?it/s]"
      ]
     },
     "metadata": {},
     "output_type": "display_data"
    },
    {
     "name": "stdout",
     "output_type": "stream",
     "text": [
      "processing belonging relations: 0.7647058823529411\n"
     ]
    },
    {
     "data": {
      "application/vnd.jupyter.widget-view+json": {
       "model_id": "42384ef3c23f4b0a861606d7d7877f0f",
       "version_major": 2,
       "version_minor": 0
      },
      "text/plain": [
       "generate_belonging_relations:   0%|          | 0/423 [00:00<?, ?it/s]"
      ]
     },
     "metadata": {},
     "output_type": "display_data"
    },
    {
     "name": "stdout",
     "output_type": "stream",
     "text": [
      "processing belonging relations: 0.7764705882352941\n"
     ]
    },
    {
     "data": {
      "application/vnd.jupyter.widget-view+json": {
       "model_id": "6115a3adc080416c929cd71631145e34",
       "version_major": 2,
       "version_minor": 0
      },
      "text/plain": [
       "generate_belonging_relations:   0%|          | 0/423 [00:00<?, ?it/s]"
      ]
     },
     "metadata": {},
     "output_type": "display_data"
    },
    {
     "name": "stdout",
     "output_type": "stream",
     "text": [
      "processing belonging relations: 0.788235294117647\n"
     ]
    },
    {
     "data": {
      "application/vnd.jupyter.widget-view+json": {
       "model_id": "89399979a07a4b2a8144f2ca3ec6fd30",
       "version_major": 2,
       "version_minor": 0
      },
      "text/plain": [
       "generate_belonging_relations:   0%|          | 0/423 [00:00<?, ?it/s]"
      ]
     },
     "metadata": {},
     "output_type": "display_data"
    },
    {
     "name": "stdout",
     "output_type": "stream",
     "text": [
      "processing belonging relations: 0.8\n"
     ]
    },
    {
     "data": {
      "application/vnd.jupyter.widget-view+json": {
       "model_id": "a7d06e5eaef4483e93bf063678fbcb9d",
       "version_major": 2,
       "version_minor": 0
      },
      "text/plain": [
       "generate_belonging_relations:   0%|          | 0/423 [00:00<?, ?it/s]"
      ]
     },
     "metadata": {},
     "output_type": "display_data"
    },
    {
     "name": "stdout",
     "output_type": "stream",
     "text": [
      "processing belonging relations: 0.8117647058823529\n"
     ]
    },
    {
     "data": {
      "application/vnd.jupyter.widget-view+json": {
       "model_id": "7e2e279807cf4691a4eb43e83d11c67a",
       "version_major": 2,
       "version_minor": 0
      },
      "text/plain": [
       "generate_belonging_relations:   0%|          | 0/423 [00:00<?, ?it/s]"
      ]
     },
     "metadata": {},
     "output_type": "display_data"
    },
    {
     "name": "stdout",
     "output_type": "stream",
     "text": [
      "processing belonging relations: 0.8235294117647058\n"
     ]
    },
    {
     "data": {
      "application/vnd.jupyter.widget-view+json": {
       "model_id": "f575a545afc443ada488db0d47c4fce2",
       "version_major": 2,
       "version_minor": 0
      },
      "text/plain": [
       "generate_belonging_relations:   0%|          | 0/423 [00:00<?, ?it/s]"
      ]
     },
     "metadata": {},
     "output_type": "display_data"
    },
    {
     "name": "stdout",
     "output_type": "stream",
     "text": [
      "processing belonging relations: 0.8352941176470589\n"
     ]
    },
    {
     "data": {
      "application/vnd.jupyter.widget-view+json": {
       "model_id": "d7f8abb2348e4250bd4d49d05c902c6b",
       "version_major": 2,
       "version_minor": 0
      },
      "text/plain": [
       "generate_belonging_relations:   0%|          | 0/423 [00:00<?, ?it/s]"
      ]
     },
     "metadata": {},
     "output_type": "display_data"
    },
    {
     "name": "stdout",
     "output_type": "stream",
     "text": [
      "processing belonging relations: 0.8470588235294118\n"
     ]
    },
    {
     "data": {
      "application/vnd.jupyter.widget-view+json": {
       "model_id": "8f20ff5c89a841fc8e0618db1d198528",
       "version_major": 2,
       "version_minor": 0
      },
      "text/plain": [
       "generate_belonging_relations:   0%|          | 0/423 [00:00<?, ?it/s]"
      ]
     },
     "metadata": {},
     "output_type": "display_data"
    },
    {
     "name": "stdout",
     "output_type": "stream",
     "text": [
      "processing belonging relations: 0.8588235294117647\n"
     ]
    },
    {
     "data": {
      "application/vnd.jupyter.widget-view+json": {
       "model_id": "aa9884e09a934ebebd1f9829c05b1c37",
       "version_major": 2,
       "version_minor": 0
      },
      "text/plain": [
       "generate_belonging_relations:   0%|          | 0/423 [00:00<?, ?it/s]"
      ]
     },
     "metadata": {},
     "output_type": "display_data"
    },
    {
     "name": "stdout",
     "output_type": "stream",
     "text": [
      "processing belonging relations: 0.8705882352941177\n"
     ]
    },
    {
     "data": {
      "application/vnd.jupyter.widget-view+json": {
       "model_id": "0f3e76743f45459bb36c1783234129bb",
       "version_major": 2,
       "version_minor": 0
      },
      "text/plain": [
       "generate_belonging_relations:   0%|          | 0/423 [00:00<?, ?it/s]"
      ]
     },
     "metadata": {},
     "output_type": "display_data"
    },
    {
     "name": "stdout",
     "output_type": "stream",
     "text": [
      "processing belonging relations: 0.8823529411764706\n"
     ]
    },
    {
     "data": {
      "application/vnd.jupyter.widget-view+json": {
       "model_id": "1b26eb4665004ba7838680e4170e26b0",
       "version_major": 2,
       "version_minor": 0
      },
      "text/plain": [
       "generate_belonging_relations:   0%|          | 0/423 [00:00<?, ?it/s]"
      ]
     },
     "metadata": {},
     "output_type": "display_data"
    },
    {
     "name": "stdout",
     "output_type": "stream",
     "text": [
      "processing belonging relations: 0.8941176470588236\n"
     ]
    },
    {
     "data": {
      "application/vnd.jupyter.widget-view+json": {
       "model_id": "b301f8969b284009894c4151e9210700",
       "version_major": 2,
       "version_minor": 0
      },
      "text/plain": [
       "generate_belonging_relations:   0%|          | 0/423 [00:00<?, ?it/s]"
      ]
     },
     "metadata": {},
     "output_type": "display_data"
    },
    {
     "name": "stdout",
     "output_type": "stream",
     "text": [
      "processing belonging relations: 0.9058823529411765\n"
     ]
    },
    {
     "data": {
      "application/vnd.jupyter.widget-view+json": {
       "model_id": "4e16fa011f554c0790600ab57887d369",
       "version_major": 2,
       "version_minor": 0
      },
      "text/plain": [
       "generate_belonging_relations:   0%|          | 0/423 [00:00<?, ?it/s]"
      ]
     },
     "metadata": {},
     "output_type": "display_data"
    },
    {
     "name": "stdout",
     "output_type": "stream",
     "text": [
      "processing belonging relations: 0.9176470588235294\n"
     ]
    },
    {
     "data": {
      "application/vnd.jupyter.widget-view+json": {
       "model_id": "11f1ff5a15124419a49af8f36537929a",
       "version_major": 2,
       "version_minor": 0
      },
      "text/plain": [
       "generate_belonging_relations:   0%|          | 0/423 [00:00<?, ?it/s]"
      ]
     },
     "metadata": {},
     "output_type": "display_data"
    },
    {
     "name": "stdout",
     "output_type": "stream",
     "text": [
      "processing belonging relations: 0.9294117647058824\n"
     ]
    },
    {
     "data": {
      "application/vnd.jupyter.widget-view+json": {
       "model_id": "100178d9429643b2a019c66afbe13540",
       "version_major": 2,
       "version_minor": 0
      },
      "text/plain": [
       "generate_belonging_relations:   0%|          | 0/423 [00:00<?, ?it/s]"
      ]
     },
     "metadata": {},
     "output_type": "display_data"
    },
    {
     "name": "stdout",
     "output_type": "stream",
     "text": [
      "processing belonging relations: 0.9411764705882353\n"
     ]
    },
    {
     "data": {
      "application/vnd.jupyter.widget-view+json": {
       "model_id": "286873ef63d540e4b2e9022016d0adfb",
       "version_major": 2,
       "version_minor": 0
      },
      "text/plain": [
       "generate_belonging_relations:   0%|          | 0/423 [00:00<?, ?it/s]"
      ]
     },
     "metadata": {},
     "output_type": "display_data"
    },
    {
     "name": "stdout",
     "output_type": "stream",
     "text": [
      "processing belonging relations: 0.9529411764705882\n"
     ]
    },
    {
     "data": {
      "application/vnd.jupyter.widget-view+json": {
       "model_id": "44a4ad2d4c9c4c8398de322357b47f71",
       "version_major": 2,
       "version_minor": 0
      },
      "text/plain": [
       "generate_belonging_relations:   0%|          | 0/423 [00:00<?, ?it/s]"
      ]
     },
     "metadata": {},
     "output_type": "display_data"
    },
    {
     "name": "stdout",
     "output_type": "stream",
     "text": [
      "processing belonging relations: 0.9647058823529412\n"
     ]
    },
    {
     "data": {
      "application/vnd.jupyter.widget-view+json": {
       "model_id": "c9a8db09eb734f1c90a6364f90d3085a",
       "version_major": 2,
       "version_minor": 0
      },
      "text/plain": [
       "generate_belonging_relations:   0%|          | 0/423 [00:00<?, ?it/s]"
      ]
     },
     "metadata": {},
     "output_type": "display_data"
    },
    {
     "name": "stdout",
     "output_type": "stream",
     "text": [
      "processing belonging relations: 0.9764705882352941\n"
     ]
    },
    {
     "data": {
      "application/vnd.jupyter.widget-view+json": {
       "model_id": "fb74abe155bc418383359f1690ec3b54",
       "version_major": 2,
       "version_minor": 0
      },
      "text/plain": [
       "generate_belonging_relations:   0%|          | 0/423 [00:00<?, ?it/s]"
      ]
     },
     "metadata": {},
     "output_type": "display_data"
    },
    {
     "name": "stdout",
     "output_type": "stream",
     "text": [
      "processing belonging relations: 0.9882352941176471\n"
     ]
    },
    {
     "data": {
      "application/vnd.jupyter.widget-view+json": {
       "model_id": "133c5f4af5874ce1959523a6ef16c16b",
       "version_major": 2,
       "version_minor": 0
      },
      "text/plain": [
       "generate_belonging_relations:   0%|          | 0/423 [00:00<?, ?it/s]"
      ]
     },
     "metadata": {},
     "output_type": "display_data"
    },
    {
     "data": {
      "application/vnd.jupyter.widget-view+json": {
       "model_id": "c7e200fc69984ff6a63e84f0547fe102",
       "version_major": 2,
       "version_minor": 0
      },
      "text/plain": [
       "generate_adjusted_geometry:   0%|          | 0/423 [00:00<?, ?it/s]"
      ]
     },
     "metadata": {},
     "output_type": "display_data"
    },
    {
     "data": {
      "application/vnd.jupyter.widget-view+json": {
       "model_id": "a19123b0376f4b219d3c68e164ab21ad",
       "version_major": 2,
       "version_minor": 0
      },
      "text/plain": [
       "generate_cum_length:   0%|          | 0/413 [00:00<?, ?it/s]"
      ]
     },
     "metadata": {},
     "output_type": "display_data"
    },
    {
     "name": "stdout",
     "output_type": "stream",
     "text": [
      "282\n",
      "429\n",
      "564\n",
      "590\n",
      "598\n",
      "614\n",
      "646\n",
      "710\n",
      "838\n"
     ]
    },
    {
     "data": {
      "text/html": [
       "<div>\n",
       "<style scoped>\n",
       "    .dataframe tbody tr th:only-of-type {\n",
       "        vertical-align: middle;\n",
       "    }\n",
       "\n",
       "    .dataframe tbody tr th {\n",
       "        vertical-align: top;\n",
       "    }\n",
       "\n",
       "    .dataframe thead th {\n",
       "        text-align: right;\n",
       "    }\n",
       "</style>\n",
       "<table border=\"1\" class=\"dataframe\">\n",
       "  <thead>\n",
       "    <tr style=\"text-align: right;\">\n",
       "      <th></th>\n",
       "      <th>vid</th>\n",
       "      <th>time</th>\n",
       "      <th>lon</th>\n",
       "      <th>lat</th>\n",
       "      <th>direction</th>\n",
       "      <th>nidx</th>\n",
       "      <th>deadheading</th>\n",
       "      <th>month</th>\n",
       "      <th>day</th>\n",
       "      <th>geometry</th>\n",
       "      <th>...</th>\n",
       "      <th>start_is_station</th>\n",
       "      <th>end_is_station</th>\n",
       "      <th>start</th>\n",
       "      <th>end</th>\n",
       "      <th>cur_length</th>\n",
       "      <th>cum_length</th>\n",
       "      <th>diff_distance</th>\n",
       "      <th>diff_time</th>\n",
       "      <th>velocity</th>\n",
       "      <th>station_status</th>\n",
       "    </tr>\n",
       "  </thead>\n",
       "  <tbody>\n",
       "    <tr>\n",
       "      <th>0</th>\n",
       "      <td>4</td>\n",
       "      <td>2021-09-06 10:36:31</td>\n",
       "      <td>121.25028</td>\n",
       "      <td>31.406036</td>\n",
       "      <td>0</td>\n",
       "      <td>2</td>\n",
       "      <td>0</td>\n",
       "      <td>9</td>\n",
       "      <td>6</td>\n",
       "      <td>POINT (13497519.428141844 3685593.6785826692)</td>\n",
       "      <td>...</td>\n",
       "      <td>True</td>\n",
       "      <td>False</td>\n",
       "      <td>菊园车站</td>\n",
       "      <td>交叉口0</td>\n",
       "      <td>199.127469</td>\n",
       "      <td>199.127469</td>\n",
       "      <td>NaN</td>\n",
       "      <td>NaN</td>\n",
       "      <td>0.000000</td>\n",
       "      <td>菊园车站</td>\n",
       "    </tr>\n",
       "    <tr>\n",
       "      <th>1</th>\n",
       "      <td>4</td>\n",
       "      <td>2021-09-06 10:36:48</td>\n",
       "      <td>121.25031</td>\n",
       "      <td>31.405865</td>\n",
       "      <td>0</td>\n",
       "      <td>2</td>\n",
       "      <td>0</td>\n",
       "      <td>9</td>\n",
       "      <td>6</td>\n",
       "      <td>POINT (13497522.767726565 3685571.375469711)</td>\n",
       "      <td>...</td>\n",
       "      <td>True</td>\n",
       "      <td>False</td>\n",
       "      <td>菊园车站</td>\n",
       "      <td>交叉口0</td>\n",
       "      <td>199.212627</td>\n",
       "      <td>199.212627</td>\n",
       "      <td>0.085158</td>\n",
       "      <td>17.0</td>\n",
       "      <td>0.005009</td>\n",
       "      <td>菊园车站</td>\n",
       "    </tr>\n",
       "    <tr>\n",
       "      <th>2</th>\n",
       "      <td>4</td>\n",
       "      <td>2021-09-06 10:37:05</td>\n",
       "      <td>121.25031</td>\n",
       "      <td>31.405865</td>\n",
       "      <td>0</td>\n",
       "      <td>2</td>\n",
       "      <td>0</td>\n",
       "      <td>9</td>\n",
       "      <td>6</td>\n",
       "      <td>POINT (13497522.767726565 3685571.375469711)</td>\n",
       "      <td>...</td>\n",
       "      <td>True</td>\n",
       "      <td>False</td>\n",
       "      <td>菊园车站</td>\n",
       "      <td>交叉口0</td>\n",
       "      <td>199.297785</td>\n",
       "      <td>199.297785</td>\n",
       "      <td>0.085158</td>\n",
       "      <td>17.0</td>\n",
       "      <td>0.005009</td>\n",
       "      <td>菊园车站</td>\n",
       "    </tr>\n",
       "    <tr>\n",
       "      <th>3</th>\n",
       "      <td>4</td>\n",
       "      <td>2021-09-06 10:37:22</td>\n",
       "      <td>121.25031</td>\n",
       "      <td>31.405865</td>\n",
       "      <td>0</td>\n",
       "      <td>2</td>\n",
       "      <td>0</td>\n",
       "      <td>9</td>\n",
       "      <td>6</td>\n",
       "      <td>POINT (13497522.767726565 3685571.375469711)</td>\n",
       "      <td>...</td>\n",
       "      <td>True</td>\n",
       "      <td>False</td>\n",
       "      <td>菊园车站</td>\n",
       "      <td>交叉口0</td>\n",
       "      <td>199.382943</td>\n",
       "      <td>199.382943</td>\n",
       "      <td>0.085158</td>\n",
       "      <td>17.0</td>\n",
       "      <td>0.005009</td>\n",
       "      <td>菊园车站</td>\n",
       "    </tr>\n",
       "    <tr>\n",
       "      <th>4</th>\n",
       "      <td>4</td>\n",
       "      <td>2021-09-06 10:37:39</td>\n",
       "      <td>121.25031</td>\n",
       "      <td>31.405865</td>\n",
       "      <td>0</td>\n",
       "      <td>2</td>\n",
       "      <td>0</td>\n",
       "      <td>9</td>\n",
       "      <td>6</td>\n",
       "      <td>POINT (13497522.767726565 3685571.375469711)</td>\n",
       "      <td>...</td>\n",
       "      <td>True</td>\n",
       "      <td>False</td>\n",
       "      <td>菊园车站</td>\n",
       "      <td>交叉口0</td>\n",
       "      <td>199.468102</td>\n",
       "      <td>199.468102</td>\n",
       "      <td>0.085158</td>\n",
       "      <td>17.0</td>\n",
       "      <td>0.005009</td>\n",
       "      <td>菊园车站</td>\n",
       "    </tr>\n",
       "    <tr>\n",
       "      <th>...</th>\n",
       "      <td>...</td>\n",
       "      <td>...</td>\n",
       "      <td>...</td>\n",
       "      <td>...</td>\n",
       "      <td>...</td>\n",
       "      <td>...</td>\n",
       "      <td>...</td>\n",
       "      <td>...</td>\n",
       "      <td>...</td>\n",
       "      <td>...</td>\n",
       "      <td>...</td>\n",
       "      <td>...</td>\n",
       "      <td>...</td>\n",
       "      <td>...</td>\n",
       "      <td>...</td>\n",
       "      <td>...</td>\n",
       "      <td>...</td>\n",
       "      <td>...</td>\n",
       "      <td>...</td>\n",
       "      <td>...</td>\n",
       "      <td>...</td>\n",
       "    </tr>\n",
       "    <tr>\n",
       "      <th>833</th>\n",
       "      <td>4</td>\n",
       "      <td>2021-09-06 12:43:51</td>\n",
       "      <td>121.25003</td>\n",
       "      <td>31.332710</td>\n",
       "      <td>0</td>\n",
       "      <td>2</td>\n",
       "      <td>0</td>\n",
       "      <td>9</td>\n",
       "      <td>6</td>\n",
       "      <td>POINT (13497491.598269144 3676033.670358032)</td>\n",
       "      <td>...</td>\n",
       "      <td>False</td>\n",
       "      <td>True</td>\n",
       "      <td>交叉口55</td>\n",
       "      <td>公交嘉定新城站</td>\n",
       "      <td>272.828838</td>\n",
       "      <td>17380.931275</td>\n",
       "      <td>25.251668</td>\n",
       "      <td>2.0</td>\n",
       "      <td>10.100667</td>\n",
       "      <td>0</td>\n",
       "    </tr>\n",
       "    <tr>\n",
       "      <th>834</th>\n",
       "      <td>4</td>\n",
       "      <td>2021-09-06 12:43:54</td>\n",
       "      <td>121.25003</td>\n",
       "      <td>31.332710</td>\n",
       "      <td>0</td>\n",
       "      <td>2</td>\n",
       "      <td>0</td>\n",
       "      <td>9</td>\n",
       "      <td>6</td>\n",
       "      <td>POINT (13497491.598269144 3676033.670358032)</td>\n",
       "      <td>...</td>\n",
       "      <td>False</td>\n",
       "      <td>True</td>\n",
       "      <td>交叉口55</td>\n",
       "      <td>公交嘉定新城站</td>\n",
       "      <td>298.080505</td>\n",
       "      <td>17406.182943</td>\n",
       "      <td>25.251668</td>\n",
       "      <td>3.0</td>\n",
       "      <td>10.100667</td>\n",
       "      <td>0</td>\n",
       "    </tr>\n",
       "    <tr>\n",
       "      <th>835</th>\n",
       "      <td>4</td>\n",
       "      <td>2021-09-06 12:43:56</td>\n",
       "      <td>121.25003</td>\n",
       "      <td>31.332710</td>\n",
       "      <td>0</td>\n",
       "      <td>2</td>\n",
       "      <td>0</td>\n",
       "      <td>9</td>\n",
       "      <td>6</td>\n",
       "      <td>POINT (13497491.598269144 3676033.670358032)</td>\n",
       "      <td>...</td>\n",
       "      <td>False</td>\n",
       "      <td>True</td>\n",
       "      <td>交叉口55</td>\n",
       "      <td>公交嘉定新城站</td>\n",
       "      <td>323.332173</td>\n",
       "      <td>17431.434611</td>\n",
       "      <td>25.251668</td>\n",
       "      <td>2.0</td>\n",
       "      <td>10.100667</td>\n",
       "      <td>0</td>\n",
       "    </tr>\n",
       "    <tr>\n",
       "      <th>836</th>\n",
       "      <td>4</td>\n",
       "      <td>2021-09-06 12:44:01</td>\n",
       "      <td>121.24987</td>\n",
       "      <td>31.333075</td>\n",
       "      <td>0</td>\n",
       "      <td>2</td>\n",
       "      <td>0</td>\n",
       "      <td>9</td>\n",
       "      <td>6</td>\n",
       "      <td>POINT (13497473.787150618 3676081.2394236485)</td>\n",
       "      <td>...</td>\n",
       "      <td>False</td>\n",
       "      <td>True</td>\n",
       "      <td>交叉口55</td>\n",
       "      <td>公交嘉定新城站</td>\n",
       "      <td>348.585768</td>\n",
       "      <td>17456.688206</td>\n",
       "      <td>25.253594</td>\n",
       "      <td>5.0</td>\n",
       "      <td>5.050719</td>\n",
       "      <td>公交嘉定新城站</td>\n",
       "    </tr>\n",
       "    <tr>\n",
       "      <th>837</th>\n",
       "      <td>4</td>\n",
       "      <td>2021-09-06 12:44:06</td>\n",
       "      <td>121.24987</td>\n",
       "      <td>31.333075</td>\n",
       "      <td>0</td>\n",
       "      <td>2</td>\n",
       "      <td>0</td>\n",
       "      <td>9</td>\n",
       "      <td>6</td>\n",
       "      <td>POINT (13497473.787150618 3676081.2394236485)</td>\n",
       "      <td>...</td>\n",
       "      <td>False</td>\n",
       "      <td>True</td>\n",
       "      <td>交叉口55</td>\n",
       "      <td>公交嘉定新城站</td>\n",
       "      <td>373.839362</td>\n",
       "      <td>17481.941800</td>\n",
       "      <td>25.253594</td>\n",
       "      <td>5.0</td>\n",
       "      <td>5.050719</td>\n",
       "      <td>公交嘉定新城站</td>\n",
       "    </tr>\n",
       "  </tbody>\n",
       "</table>\n",
       "<p>838 rows × 28 columns</p>\n",
       "</div>"
      ],
      "text/plain": [
       "    vid                time        lon        lat direction nidx deadheading  \\\n",
       "0     4 2021-09-06 10:36:31  121.25028  31.406036         0    2           0   \n",
       "1     4 2021-09-06 10:36:48  121.25031  31.405865         0    2           0   \n",
       "2     4 2021-09-06 10:37:05  121.25031  31.405865         0    2           0   \n",
       "3     4 2021-09-06 10:37:22  121.25031  31.405865         0    2           0   \n",
       "4     4 2021-09-06 10:37:39  121.25031  31.405865         0    2           0   \n",
       "..   ..                 ...        ...        ...       ...  ...         ...   \n",
       "833   4 2021-09-06 12:43:51  121.25003  31.332710         0    2           0   \n",
       "834   4 2021-09-06 12:43:54  121.25003  31.332710         0    2           0   \n",
       "835   4 2021-09-06 12:43:56  121.25003  31.332710         0    2           0   \n",
       "836   4 2021-09-06 12:44:01  121.24987  31.333075         0    2           0   \n",
       "837   4 2021-09-06 12:44:06  121.24987  31.333075         0    2           0   \n",
       "\n",
       "    month day                                       geometry  ...  \\\n",
       "0       9   6  POINT (13497519.428141844 3685593.6785826692)  ...   \n",
       "1       9   6   POINT (13497522.767726565 3685571.375469711)  ...   \n",
       "2       9   6   POINT (13497522.767726565 3685571.375469711)  ...   \n",
       "3       9   6   POINT (13497522.767726565 3685571.375469711)  ...   \n",
       "4       9   6   POINT (13497522.767726565 3685571.375469711)  ...   \n",
       "..    ...  ..                                            ...  ...   \n",
       "833     9   6   POINT (13497491.598269144 3676033.670358032)  ...   \n",
       "834     9   6   POINT (13497491.598269144 3676033.670358032)  ...   \n",
       "835     9   6   POINT (13497491.598269144 3676033.670358032)  ...   \n",
       "836     9   6  POINT (13497473.787150618 3676081.2394236485)  ...   \n",
       "837     9   6  POINT (13497473.787150618 3676081.2394236485)  ...   \n",
       "\n",
       "    start_is_station end_is_station  start      end  cur_length    cum_length  \\\n",
       "0               True          False   菊园车站     交叉口0  199.127469    199.127469   \n",
       "1               True          False   菊园车站     交叉口0  199.212627    199.212627   \n",
       "2               True          False   菊园车站     交叉口0  199.297785    199.297785   \n",
       "3               True          False   菊园车站     交叉口0  199.382943    199.382943   \n",
       "4               True          False   菊园车站     交叉口0  199.468102    199.468102   \n",
       "..               ...            ...    ...      ...         ...           ...   \n",
       "833            False           True  交叉口55  公交嘉定新城站  272.828838  17380.931275   \n",
       "834            False           True  交叉口55  公交嘉定新城站  298.080505  17406.182943   \n",
       "835            False           True  交叉口55  公交嘉定新城站  323.332173  17431.434611   \n",
       "836            False           True  交叉口55  公交嘉定新城站  348.585768  17456.688206   \n",
       "837            False           True  交叉口55  公交嘉定新城站  373.839362  17481.941800   \n",
       "\n",
       "    diff_distance  diff_time   velocity station_status  \n",
       "0             NaN        NaN   0.000000           菊园车站  \n",
       "1        0.085158       17.0   0.005009           菊园车站  \n",
       "2        0.085158       17.0   0.005009           菊园车站  \n",
       "3        0.085158       17.0   0.005009           菊园车站  \n",
       "4        0.085158       17.0   0.005009           菊园车站  \n",
       "..            ...        ...        ...            ...  \n",
       "833     25.251668        2.0  10.100667              0  \n",
       "834     25.251668        3.0  10.100667              0  \n",
       "835     25.251668        2.0  10.100667              0  \n",
       "836     25.253594        5.0   5.050719        公交嘉定新城站  \n",
       "837     25.253594        5.0   5.050719        公交嘉定新城站  \n",
       "\n",
       "[838 rows x 28 columns]"
      ]
     },
     "execution_count": 25,
     "metadata": {},
     "output_type": "execute_result"
    }
   ],
   "source": [
    "routine = generate_routine(gps, 2, 0)\n",
    "routine = generate_belonging_relations(routine, mapline)\n",
    "routine = generate_adjusted_geometry(routine)\n",
    "routine = generate_cum_length(routine, mapline)\n",
    "routine = generate_correct_geometry(routine)\n",
    "routine = generate_interpolation(routine)\n",
    "routine = generate_station_status(routine)\n",
    "routine"
   ]
  },
  {
   "cell_type": "code",
   "execution_count": null,
   "metadata": {},
   "outputs": [],
   "source": [
    "for i, row in routine.iterrows():\n",
    "    print(row['time'],row['station_status'],row['start'],row['end'],row['cur_length'],row['selected_line'].length - row['cur_length'],row['velocity'])"
   ]
  },
  {
   "cell_type": "code",
   "execution_count": null,
   "metadata": {},
   "outputs": [],
   "source": [
    "plt.plot(routine['time'], routine['cum_length'])"
   ]
  },
  {
   "cell_type": "code",
   "execution_count": null,
   "metadata": {},
   "outputs": [],
   "source": [
    "import geopandas as gpd\n",
    "# testline = LineString([(0, 0), (1, 1), (0, 2), (2, 2), (3, 1), (1, 0)])\n",
    "testlines = gpd.GeoSeries([LineString([(0, 0), (1, 1)]),\n",
    "                            LineString([(1, 1), (0, 2)]),\n",
    "                            LineString([(0, 2), (2, 2)]),\n",
    "                            LineString([(2, 2), (3, 1)]),\n",
    "                            LineString([(3, 1), (1, 0)])])\n",
    "testbuffer = testlines.buffer(0.4, cap_style=2, join_style=2)\n",
    "fig, ax = plt.subplots(figsize=(6,6),dpi=300)\n",
    "gpd.GeoSeries(testlines).plot(ax = ax)\n",
    "color = ['red','orange','blue','green','yellow']\n",
    "for i in range(len(testbuffer)):\n",
    "    gpd.GeoSeries(testbuffer[i]).plot(ax = ax, color = color[i], alpha=0.3)"
   ]
  },
  {
   "cell_type": "code",
   "execution_count": null,
   "metadata": {},
   "outputs": [],
   "source": [
    "import geopandas as gpd\n",
    "plt_mapline = gpd.GeoDataFrame(mapline)\n",
    "plt_routine = gpd.GeoDataFrame(routine)\n",
    "fig, ax = plt.subplots(1,2,figsize=(9,6),dpi=300)\n",
    "plt_mapline['rect_buffer'].plot(ax = ax[0], color = 'blue', alpha=0.3)\n",
    "plt_mapline.plot(ax = ax[0], color = 'orange',alpha=0.6)\n",
    "plt_routine.plot(ax = ax[0], color = 'red', alpha = 0.5, markersize = 5)\n",
    "\n",
    "ax[0].set_xlim((5400+1.349e7, 6500+1.349e7))\n",
    "ax[0].set_ylim((3.6822e6, 3.684e6))\n",
    "# ax[0].set_xlim((7000+1.349e7, 8000+1.349e7))\n",
    "# ax[0].set_ylim((3.685e6, 3.686e6))\n",
    "\n",
    "plt_mapline['rect_buffer'].plot(ax = ax[1], color = 'blue', alpha=0.3)\n",
    "plt_mapline.plot(ax = ax[1], color = 'orange',alpha=0.6)\n",
    "adjusted_routine = gpd.GeoDataFrame({'geometry':plt_routine['adjusted_geometry']})\n",
    "adjusted_routine.plot(ax = ax[1], color = 'red', alpha = 0.5, markersize = 5)\n",
    "# routine['adjusted_geometry'].plot(ax = ax[1], color = 'red', alpha = 0.5, markersize = 5)\n",
    "\n",
    "ax[1].set_xlim((5400+1.349e7, 6500+1.349e7))\n",
    "ax[1].set_ylim((3.6822e6, 3.684e6))\n",
    "# ax[1].set_xlim((7000+1.349e7, 8000+1.349e7))\n",
    "# ax[1].set_ylim((3.685e6, 3.686e6))\n",
    "\n",
    "# mapline['rect_buffer'].plot(ax = ax[2], color = 'blue', alpha=0.3)\n",
    "# mapline.plot(ax = ax[2], color = 'orange',alpha=0.6)\n",
    "# adjusted_routine = gpd.GeoDataFrame({'geometry':test_routine['adjusted_geometry']})\n",
    "# adjusted_routine.plot(ax = ax[2], color = 'red', alpha = 0.5, markersize = 5)\n",
    "# # routine['adjusted_geometry'].plot(ax = ax[1], color = 'red', alpha = 0.5, markersize = 5)\n",
    "\n",
    "# # ax[1].set_xlim((5400+1.349e7, 6500+1.349e7))\n",
    "# # ax[1].set_ylim((3.6822e6, 3.684e6))\n",
    "# ax[2].set_xlim((7000+1.349e7, 8000+1.349e7))\n",
    "# ax[2].set_ylim((3.685e6, 3.686e6))\n"
   ]
  },
  {
   "cell_type": "code",
   "execution_count": null,
   "metadata": {},
   "outputs": [],
   "source": [
    "370\n",
    "371\n",
    "372\n",
    "373\n",
    "374"
   ]
  },
  {
   "cell_type": "code",
   "execution_count": null,
   "metadata": {},
   "outputs": [],
   "source": [
    "from shapely import geometry as geo\n",
    "def check(idx_list):\n",
    "    res = []\n",
    "    for idx in idx_list:\n",
    "        buffer = routine.loc[idx, 'belong_rect_buffer'][0]\n",
    "        line = routine.loc[idx, 'selected_line']\n",
    "        point = routine.loc[idx, 'adjusted_geometry']\n",
    "        res += [buffer,line,point]\n",
    "    return res\n",
    "    "
   ]
  },
  {
   "cell_type": "code",
   "execution_count": null,
   "metadata": {},
   "outputs": [],
   "source": [
    "169 173"
   ]
  },
  {
   "cell_type": "code",
   "execution_count": null,
   "metadata": {},
   "outputs": [],
   "source": [
    "geo.GeometryCollection(check([169, 170, 171, 173]))"
   ]
  },
  {
   "cell_type": "code",
   "execution_count": null,
   "metadata": {},
   "outputs": [],
   "source": [
    "buffer = routine.loc[2, 'belong_rect_buffer'][0]\n",
    "line = routine.loc[2, 'selected_line']\n",
    "point = routine.loc[2, 'adjusted_geometry']\n",
    "from shapely import geometry as geo\n",
    "geo.GeometryCollection([buffer,line,point])"
   ]
  },
  {
   "cell_type": "code",
   "execution_count": null,
   "metadata": {},
   "outputs": [],
   "source": [
    "mapdf"
   ]
  },
  {
   "cell_type": "code",
   "execution_count": null,
   "metadata": {},
   "outputs": [],
   "source": [
    "mapline"
   ]
  },
  {
   "cell_type": "code",
   "execution_count": null,
   "metadata": {},
   "outputs": [],
   "source": []
  }
 ],
 "metadata": {
  "kernelspec": {
   "display_name": "Python 3.9.7 ('ox')",
   "language": "python",
   "name": "python3"
  },
  "language_info": {
   "codemirror_mode": {
    "name": "ipython",
    "version": 3
   },
   "file_extension": ".py",
   "mimetype": "text/x-python",
   "name": "python",
   "nbconvert_exporter": "python",
   "pygments_lexer": "ipython3",
   "version": "3.9.7"
  },
  "orig_nbformat": 4,
  "vscode": {
   "interpreter": {
    "hash": "0e9c953ce333e46b732450a2d7281e263005e5cbdd37c84ada0757df85e40195"
   }
  }
 },
 "nbformat": 4,
 "nbformat_minor": 2
}
