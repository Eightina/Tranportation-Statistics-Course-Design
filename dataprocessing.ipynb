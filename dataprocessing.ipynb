{
 "cells": [
  {
   "cell_type": "code",
   "execution_count": 3,
   "metadata": {},
   "outputs": [],
   "source": [
    "import pandas as pd\n",
    "\n",
    "import numpy as np\n",
    "import matplotlib.pyplot as plt\n",
    "\n",
    "from shapely.geometry import Point\n",
    "from shapely.geometry import LineString\n",
    "\n",
    "from utils.maputils import generate_3857_df, generate_lines,\\\n",
    "                            generate_buffers,generate_base_length\\\n",
    "\n",
    "from utils.routineutils import generate_routine, generate_adjusted_geometry,\\\n",
    "                                generate_belonging_relations, \\\n",
    "                                generate_cum_length, generate_correct_geometry,\\\n",
    "                                generate_station_status\\\n",
    "                                    ,generate_interpolation\n",
    "            \n",
    "from utils.timeutils import time_transfer\n",
    "\n",
    "import os\n",
    "\n",
    "from tqdm.autonotebook import tqdm\n",
    "\n",
    "import warnings\n",
    "warnings.filterwarnings(\"ignore\")"
   ]
  },
  {
   "cell_type": "code",
   "execution_count": 4,
   "metadata": {},
   "outputs": [],
   "source": [
    "def process_gpsdf(filename):\n",
    "    gpsdf = pd.read_csv('./data/gps/' + filename)\n",
    "    gpsdf = time_transfer(gpsdf)\n",
    "    gpsdf = generate_3857_df(gpsdf)\n",
    "    return gpsdf\n",
    "\n",
    "def process_linedf(direction):\n",
    "    if direction == 0:\n",
    "        path = './data/map/map_up.xlsx'\n",
    "    else:\n",
    "        path = './data/map/map_down.xlsx'\n",
    "    mapdf = pd.read_excel(path)\n",
    "    mapdf = generate_3857_df(mapdf)\n",
    "    linedf = generate_lines(mapdf)\n",
    "    linedf = generate_buffers(linedf)\n",
    "    linedf = generate_base_length(linedf)\n",
    "    return linedf\n",
    "\n",
    "# def preprocess_routine(gpsdf, linedfup, linedfdown):\n",
    "#     gpsdf.loc[gpsdf['direction'] == 0] = generate_belonging_relations(gpsdf.loc[gpsdf['direction'] == 0], linedfup)\n",
    "#     gpsdf.loc[gpsdf['direction'] == 1] = generate_belonging_relations(gpsdf.loc[gpsdf['direction'] == 1], linedfdown)\n",
    "#     gpsdf = generate_adjusted_geometry(gpsdf)\n",
    "#     gpsdf.loc[gpsdf['direction'] == 0] = generate_cum_length(gpsdf.loc[gpsdf['direction'] == 0], linedfup)\n",
    "#     gpsdf.loc[gpsdf['direction'] == 1] = generate_cum_length(gpsdf.loc[gpsdf['direction'] == 1], linedfdown)\n",
    "#     return gpsdf\n",
    "\n",
    "# mapline = process_linedf(direction)\n",
    "\n",
    "def process_routine(gpsdf, linedf, nidx:int, direction:int):\n",
    "    routinedf = generate_routine(gpsdf, nidx = nidx, direction = direction)\n",
    "    routinedf = generate_belonging_relations(routinedf, linedf)\n",
    "    routinedf = generate_adjusted_geometry(routinedf)\n",
    "    routinedf = generate_cum_length(routinedf, linedf)\n",
    "    routinedf = generate_correct_geometry(routinedf)\n",
    "    routinedf = generate_interpolation(routinedf)\n",
    "    routinedf = generate_station_status(routinedf)\n",
    "    return routinedf\n",
    "\n"
   ]
  },
  {
   "cell_type": "code",
   "execution_count": 19,
   "metadata": {},
   "outputs": [],
   "source": [
    "# filename_list = os.listdir('./data/gps/')\n",
    "# filename = filename_list[0]\n",
    "# gps = process_gpsdf(filename)\n",
    "# mapline_up = process_linedf(0)\n",
    "# mapline_down = process_linedf(1)    \n",
    "# gps = preprocess_routine(gps,\n",
    "#                         linedfup = mapline_up,\n",
    "#                         linedfdown = mapline_down)"
   ]
  },
  {
   "cell_type": "code",
   "execution_count": 20,
   "metadata": {},
   "outputs": [],
   "source": [
    "filename_list = os.listdir('./data/gps/')\n",
    "for filename in filename_list:\n",
    "    gps = process_gpsdf(filename)\n",
    "    \n",
    "    mapline_up = process_linedf(0)\n",
    "    mapline_down = process_linedf(1)\n",
    "    \n",
    "    # gps = preprocess_routine(gps,\n",
    "    #                         linedfup = mapline_up,\n",
    "    #                         linedfdown = mapline_down)\n",
    "    \n",
    "    nidx_list = gps.nidx.unique()\n",
    "    direction_list = [0, 1]\n",
    "    for i,nidx in enumerate(nidx_list):\n",
    "        print('nidx:'+str(i)+'/'+str(len(nidx_list)))\n",
    "        for direction in direction_list:\n",
    "            if direction == 0:\n",
    "                routine = process_routine(gps, linedf = mapline_up, nidx = nidx, direction = direction)\n",
    "            else:\n",
    "                routine = process_routine(gps, linedf = mapline_down, nidx = nidx, direction = direction)\n",
    "            res = pd.concat([res, routine], ignore_index=True).reset_index(drop = True)\n",
    "    res.to_csv('test.csv')\n",
    "    \n",
    "    \n",
    "    \n",
    "    "
   ]
  },
  {
   "cell_type": "code",
   "execution_count": 20,
   "metadata": {},
   "outputs": [
    {
     "data": {
      "application/vnd.jupyter.widget-view+json": {
       "model_id": "530d110eab304a18a2066c411c834d49",
       "version_major": 2,
       "version_minor": 0
      },
      "text/plain": [
       "generate_3857_df:   0%|          | 0/86559 [00:00<?, ?it/s]"
      ]
     },
     "metadata": {},
     "output_type": "display_data"
    },
    {
     "data": {
      "application/vnd.jupyter.widget-view+json": {
       "model_id": "e7a74f5fc55b4dcbb7af0a6487e429d2",
       "version_major": 2,
       "version_minor": 0
      },
      "text/plain": [
       "generate_3857_df:   0%|          | 0/85 [00:00<?, ?it/s]"
      ]
     },
     "metadata": {},
     "output_type": "display_data"
    },
    {
     "data": {
      "application/vnd.jupyter.widget-view+json": {
       "model_id": "13c27c279ec2486c9832c05d779fcc0c",
       "version_major": 2,
       "version_minor": 0
      },
      "text/plain": [
       "generate_3857_df:   0%|          | 0/89 [00:00<?, ?it/s]"
      ]
     },
     "metadata": {},
     "output_type": "display_data"
    }
   ],
   "source": [
    "filename_list = os.listdir('./data/gps/')\n",
    "filename = filename_list[0]\n",
    "gps = process_gpsdf(filename)\n",
    "mapline_up = process_linedf(0)\n",
    "mapline_down = process_linedf(1)\n",
    "gps = gps.head(1000)    "
   ]
  },
  {
   "cell_type": "code",
   "execution_count": null,
   "metadata": {},
   "outputs": [],
   "source": []
  }
 ],
 "metadata": {
  "kernelspec": {
   "display_name": "Python 3.9.7 ('ox')",
   "language": "python",
   "name": "python3"
  },
  "language_info": {
   "codemirror_mode": {
    "name": "ipython",
    "version": 3
   },
   "file_extension": ".py",
   "mimetype": "text/x-python",
   "name": "python",
   "nbconvert_exporter": "python",
   "pygments_lexer": "ipython3",
   "version": "3.9.7"
  },
  "orig_nbformat": 4,
  "vscode": {
   "interpreter": {
    "hash": "0e9c953ce333e46b732450a2d7281e263005e5cbdd37c84ada0757df85e40195"
   }
  }
 },
 "nbformat": 4,
 "nbformat_minor": 2
}
