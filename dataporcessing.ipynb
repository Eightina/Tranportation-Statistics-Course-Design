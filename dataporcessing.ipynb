{
 "cells": [
  {
   "cell_type": "code",
   "execution_count": 1,
   "metadata": {},
   "outputs": [],
   "source": [
    "import pandas as pd\n",
    "\n",
    "import numpy as np\n",
    "import matplotlib.pyplot as plt\n",
    "\n",
    "from shapely.geometry import Point\n",
    "from shapely.geometry import LineString\n",
    "\n",
    "from utils.maputils import generate_3857_df, generate_lines,\\\n",
    "                            generate_buffers,generate_base_length\\\n",
    "\n",
    "from utils.routineutils import generate_routine, generate_adjusted_geometry,\\\n",
    "                                generate_belonging_relations, \\\n",
    "                                generate_cum_length, generate_correct_geometry,\\\n",
    "                                generate_station_status\\\n",
    "                                    ,generate_interpolation\n",
    "            \n",
    "from utils.timeutils import time_transfer\n",
    "\n",
    "import os"
   ]
  },
  {
   "cell_type": "code",
   "execution_count": 2,
   "metadata": {},
   "outputs": [],
   "source": [
    "def process_gpsdf(filename):\n",
    "    gpsdf = pd.read_csv('./data/gps/' + filename)\n",
    "    gpsdf = time_transfer(gpsdf)\n",
    "    gpsdf = generate_3857_df(gpsdf)\n",
    "    return gpsdf\n",
    "\n",
    "def process_linedf(direction):\n",
    "    if direction == 0:\n",
    "        path = './data/map/map_up.xlsx'\n",
    "    else:\n",
    "        path = './data/map/map_down.xlsx'\n",
    "    mapdf = pd.read_excel(path)\n",
    "    mapdf = generate_3857_df(mapdf)\n",
    "    linedf = generate_lines(mapdf)\n",
    "    linedf = generate_buffers(linedf)\n",
    "    linedf = generate_base_length(linedf)\n",
    "    return linedf\n",
    "\n",
    "def preprocess_routine(gpsdf, linedfup, linedfdown):\n",
    "    gpsdf.loc[gpsdf['direction'] == 0] = generate_belonging_relations(gpsdf, linedfup)\n",
    "    gpsdf.loc[gpsdf['direction'] == 1] = generate_belonging_relations(gpsdf, linedfdown)\n",
    "    gpsdf = generate_adjusted_geometry(gpsdf)\n",
    "    gpsdf.loc[gpsdf['direction'] == 0] = generate_cum_length(gpsdf, linedfup)\n",
    "    gpsdf.loc[gpsdf['direction'] == 1] = generate_cum_length(gpsdf, linedfdown)\n",
    "    return gpsdf\n",
    "\n",
    "# mapline = process_linedf(direction)\n",
    "\n",
    "def process_routine(gpsdf, nidx:int, direction:int):\n",
    "    routinedf = generate_routine(gpsdf, nidx = nidx, direction = direction)\n",
    "    # routine = generate_belonging_relations(routine, linedf)\n",
    "    # routine = generate_adjusted_geometry(routine)\n",
    "    # routinedf = generate_cum_length(routinedf, linedf)\n",
    "    routinedf = generate_correct_geometry(routinedf)\n",
    "    routinedf = generate_interpolation(routinedf)\n",
    "    routinedf = generate_station_status(routinedf)\n",
    "    return routinedf"
   ]
  },
  {
   "cell_type": "code",
   "execution_count": 3,
   "metadata": {},
   "outputs": [
    {
     "name": "stderr",
     "output_type": "stream",
     "text": [
      "d:\\programs\\envs\\ox\\lib\\site-packages\\pandas\\core\\dtypes\\cast.py:127: ShapelyDeprecationWarning: The array interface is deprecated and will no longer work in Shapely 2.0. Convert the '.coords' to a numpy array instead.\n",
      "  arr = construct_1d_object_array_from_listlike(values)\n",
      "d:\\programs\\envs\\ox\\lib\\site-packages\\pandas\\core\\dtypes\\cast.py:127: ShapelyDeprecationWarning: The array interface is deprecated and will no longer work in Shapely 2.0. Convert the '.coords' to a numpy array instead.\n",
      "  arr = construct_1d_object_array_from_listlike(values)\n",
      "d:\\programs\\envs\\ox\\lib\\site-packages\\pandas\\core\\dtypes\\cast.py:127: ShapelyDeprecationWarning: The array interface is deprecated and will no longer work in Shapely 2.0. Convert the '.coords' to a numpy array instead.\n",
      "  arr = construct_1d_object_array_from_listlike(values)\n"
     ]
    }
   ],
   "source": [
    "filename_list = os.listdir('./data/gps/')\n",
    "filename = filename_list[0]\n",
    "gps = process_gpsdf(filename)\n",
    "mapline_up = process_linedf(0)\n",
    "mapline_down = process_linedf(1)"
   ]
  },
  {
   "cell_type": "code",
   "execution_count": null,
   "metadata": {},
   "outputs": [],
   "source": [
    "filename_list = os.listdir('./data/gps/')\n",
    "for filename in filename_list:\n",
    "    gps = process_gpsdf(filename)\n",
    "    \n",
    "    mapline_up = process_linedf(0)\n",
    "    mapline_down = process_linedf(1)\n",
    "    \n",
    "    gps = preprocess_routine(gps,\n",
    "                            linedfup = mapline_up,\n",
    "                            linedfdown = mapline_down)\n",
    "    \n",
    "    nidx_list = gps.nidx.unique()\n",
    "    direction_list = [0, 1]\n",
    "    for nidx in nidx_list:\n",
    "        for direction in direction_list:\n",
    "            routine = process_routine(gps, nidx = nidx, direction = direction)\n",
    "            \n",
    "    \n",
    "    \n",
    "    \n",
    "    "
   ]
  }
 ],
 "metadata": {
  "kernelspec": {
   "display_name": "Python 3.9.7 ('ox')",
   "language": "python",
   "name": "python3"
  },
  "language_info": {
   "codemirror_mode": {
    "name": "ipython",
    "version": 3
   },
   "file_extension": ".py",
   "mimetype": "text/x-python",
   "name": "python",
   "nbconvert_exporter": "python",
   "pygments_lexer": "ipython3",
   "version": "3.9.7"
  },
  "orig_nbformat": 4,
  "vscode": {
   "interpreter": {
    "hash": "0e9c953ce333e46b732450a2d7281e263005e5cbdd37c84ada0757df85e40195"
   }
  }
 },
 "nbformat": 4,
 "nbformat_minor": 2
}
